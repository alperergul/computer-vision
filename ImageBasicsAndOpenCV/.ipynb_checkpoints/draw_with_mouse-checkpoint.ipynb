{
 "cells": [
  {
   "cell_type": "code",
   "execution_count": 7,
   "id": "1d39f721-9cbc-442c-8393-b560f69631ae",
   "metadata": {},
   "outputs": [],
   "source": [
    "import cv2\n",
    "import numpy as np\n",
    "\n",
    "###############\n",
    "## FUNCTION ###\n",
    "###############\n",
    "\n",
    "def draw_circle(event,x,y,flags,param):\n",
    "    pass\n",
    "\n",
    "cv2.namedWindow(winname='my_drawing')\n",
    "\n",
    "\n",
    "################################\n",
    "## SHOWING IMAGE WITH OPENCV ###\n",
    "################################\n",
    "\n",
    "img = np.zeros((512,512,3), np.int8)\n",
    "\n",
    "while True:\n",
    "    \n",
    "    cv2.imshow('drawing_img', img)\n",
    "    \n",
    "    if cv2.waitKey(20) & 0xFF == 27:\n",
    "        break\n",
    "        \n",
    "cv2.destroyAllWindows()"
   ]
  },
  {
   "cell_type": "code",
   "execution_count": null,
   "id": "c2ef22c9-5108-421b-894c-443457524da7",
   "metadata": {},
   "outputs": [],
   "source": []
  },
  {
   "cell_type": "code",
   "execution_count": null,
   "id": "9ed0717f-85f8-4a21-be62-1f6588c630f2",
   "metadata": {},
   "outputs": [],
   "source": []
  }
 ],
 "metadata": {
  "kernelspec": {
   "display_name": "Python 3 (ipykernel)",
   "language": "python",
   "name": "python3"
  },
  "language_info": {
   "codemirror_mode": {
    "name": "ipython",
    "version": 3
   },
   "file_extension": ".py",
   "mimetype": "text/x-python",
   "name": "python",
   "nbconvert_exporter": "python",
   "pygments_lexer": "ipython3",
   "version": "3.9.12"
  }
 },
 "nbformat": 4,
 "nbformat_minor": 5
}
