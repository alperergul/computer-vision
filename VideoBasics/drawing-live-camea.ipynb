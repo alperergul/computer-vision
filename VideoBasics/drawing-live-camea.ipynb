{
 "cells": [
  {
   "cell_type": "code",
   "execution_count": 1,
   "metadata": {},
   "outputs": [],
   "source": [
    "import cv2"
   ]
  },
  {
   "cell_type": "code",
   "execution_count": 2,
   "metadata": {},
   "outputs": [],
   "source": [
    "cap = cv2.VideoCapture(0)\n",
    "\n",
    "width = int(cap.get(cv2.CAP_PROP_FRAME_WIDTH))\n",
    "height = int(cap.get(cv2.CAP_PROP_FRAME_HEIGHT))\n",
    "\n",
    "# Top left corner \n",
    "x = width // 2\n",
    "y = height // 2\n",
    "\n",
    "# width and height of rectangle\n",
    "w = width // 4\n",
    "h = height // 4\n",
    "\n",
    "# bottom right  x + w, y+h\n",
    "\n",
    "while True:\n",
    "\n",
    "    ret, frame = cap.read()\n",
    "    cv2.rectangle(frame,(x,y),(x+w, y+h), (0,0,255), thickness=4)\n",
    "\n",
    "    cv2.imshow('frame', frame)\n",
    "\n",
    "    if cv2.waitKey(1) & 0xFF == ord('q'):\n",
    "        break\n",
    "\n",
    "\n",
    "cap.release()\n",
    "cv2.destroyAllWindows()\n"
   ]
  },
  {
   "cell_type": "code",
   "execution_count": 5,
   "metadata": {},
   "outputs": [],
   "source": [
    "# EKRANDA ÇİZİM İÇİN\n",
    "\n",
    "\n",
    "# CALLBACK FUNCTION RECTANGLE\n",
    "def draw_rectangle(event, x,y,flags, param):\n",
    "    \n",
    "    global pt1, pt2, topleft_click,botright_click\n",
    "\n",
    "    if event == cv2.EVENT_LBUTTONDOWN:\n",
    "\n",
    "        #Reset the rectangle\n",
    "        if topleft_click == True and botright_click == True:\n",
    "            pt1 = (0,0)\n",
    "            pt2 = (0,0)\n",
    "\n",
    "            topleft_click = False\n",
    "            botright_click = False\n",
    "\n",
    "        if topleft_click == False:\n",
    "            pt1 = (x,y)\n",
    "            topleft_click = True\n",
    "        elif botright_click == False:\n",
    "            pt2 = (x,y)\n",
    "            botright_click = True\n",
    "        \n",
    "\n",
    "\n",
    "\n",
    "# GLOBAL VARIABLES\n",
    "pt1 = (0,0)\n",
    "pt2 = (0,0)\n",
    "\n",
    "topleft_click = False\n",
    "botright_click = False\n",
    "\n",
    "# CONNECT TO CALLBACK\n",
    "cap = cv2.VideoCapture(0)\n",
    "cv2.namedWindow('Test')\n",
    "cv2.setMouseCallback('Test', draw_rectangle)\n",
    "\n",
    "\n",
    "while True:\n",
    "\n",
    "    ret, frame = cap.read()\n",
    "\n",
    "    # DRAWING ON THE BASED OFF THE GLOBAL VARIABLES\n",
    "\n",
    "    if topleft_click:\n",
    "        cv2.circle(frame, pt1, radius=5, color=(0,0,255), thickness=-1)\n",
    "    \n",
    "    if topleft_click and botright_click:\n",
    "        cv2.rectangle(frame, pt1, pt2, (0,0,255),thickness=3)\n",
    "\n",
    "    cv2.imshow('Test', frame)\n",
    "\n",
    "    if cv2.waitKey(1) & 0xFF == ord('q'):\n",
    "        break\n",
    "\n",
    "\n",
    "cap.release()\n",
    "cv2.destroyAllWindows()\n"
   ]
  },
  {
   "cell_type": "code",
   "execution_count": null,
   "metadata": {},
   "outputs": [],
   "source": []
  }
 ],
 "metadata": {
  "kernelspec": {
   "display_name": "Python 3.9.12 ('base')",
   "language": "python",
   "name": "python3"
  },
  "language_info": {
   "codemirror_mode": {
    "name": "ipython",
    "version": 3
   },
   "file_extension": ".py",
   "mimetype": "text/x-python",
   "name": "python",
   "nbconvert_exporter": "python",
   "pygments_lexer": "ipython3",
   "version": "3.9.12"
  },
  "orig_nbformat": 4,
  "vscode": {
   "interpreter": {
    "hash": "68c2a598aeb7a5453385b31db816aca13b02730df7c59dafc526f0b7d57c21dd"
   }
  }
 },
 "nbformat": 4,
 "nbformat_minor": 2
}
